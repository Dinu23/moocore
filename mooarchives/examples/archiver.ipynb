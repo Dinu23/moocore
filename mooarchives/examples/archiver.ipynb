{
 "cells": [
  {
   "cell_type": "code",
   "execution_count": 1,
   "id": "bd7a3432",
   "metadata": {},
   "outputs": [],
   "source": [
    "import mooarchives"
   ]
  },
  {
   "cell_type": "code",
   "execution_count": 4,
   "id": "3ffb7172",
   "metadata": {},
   "outputs": [
    {
     "name": "stdout",
     "output_type": "stream",
     "text": [
      "[Solution([0.000000, 1.000000, 1.000000, 1.000000])]\n",
      "Solution([0.000000, 1.000000, 1.000000, 1.000000])\n",
      "Moocore implementation of fpli_hv called.\n",
      "Moocore implementation of fpli_hv called.\n"
     ]
    }
   ],
   "source": [
    "\n",
    "rng = mooarchives.Random(42)\n",
    "archive = mooarchives.HVArchive(1, 4, rng, True)\n",
    "archive.add([0, 1.0, 2.0, 3.0])\n",
    "archive.add([0, 2.0, 1.0, 3.0])\n",
    "archive.add([0, 1.0, 1.0, 1.0])\n",
    "archive.add([0, 3.0, 2.0, 1.0])\n",
    "archive.add([0, 1.0, 2.0, 3.0])\n",
    "a = archive.get_solutions()\n",
    "print(a)\n",
    "for el in a:\n",
    "    print(el)"
   ]
  }
 ],
 "metadata": {
  "kernelspec": {
   "display_name": "mooarchive",
   "language": "python",
   "name": "python3"
  },
  "language_info": {
   "codemirror_mode": {
    "name": "ipython",
    "version": 3
   },
   "file_extension": ".py",
   "mimetype": "text/x-python",
   "name": "python",
   "nbconvert_exporter": "python",
   "pygments_lexer": "ipython3",
   "version": "3.10.18"
  }
 },
 "nbformat": 4,
 "nbformat_minor": 5
}
